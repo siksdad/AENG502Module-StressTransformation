{
 "cells": [
  {
   "cell_type": "markdown",
   "id": "loose-wales",
   "metadata": {
    "tags": []
   },
   "source": [
    "# Stress Transformation and Mohr's Circle in 2D"
   ]
  },
  {
   "cell_type": "markdown",
   "id": "acoustic-commercial",
   "metadata": {},
   "source": [
    "<img src='stress_transformation.JPG' />"
   ]
  },
  {
   "cell_type": "markdown",
   "id": "biblical-engineer",
   "metadata": {},
   "source": [
    "Reference:\n",
    "https://civilengineering-softstudies.com/2020/09/python-code-for-mohrs-circle-stresse-at-a-given-angle-theta-principal-stresses-and-their-planes-maximum-shear-stress-and-its-plane.html\n",
    "    "
   ]
  },
  {
   "cell_type": "code",
   "execution_count": 22,
   "id": "smoking-infection",
   "metadata": {},
   "outputs": [
    {
     "name": "stdout",
     "output_type": "stream",
     "text": [
      "\n",
      "       Radius, R = √(0.25*(σx-σy)^2 + τxy^2) \n",
      "               = √(0.25*(100.0-50.0)^2 + 10.0^2)  =26.92582403567252 Mpa\n",
      "\n",
      "       Average Stress,(acts at the Center of Mohr's Circle) \n",
      "               = σavg = (σx + σy)/2 = (100.0 + 50.0)/2 = 75.0 Mpa\n",
      "\n",
      "       Principal Stresses\n",
      "       σ1 = σavg + R = 75.0 + 26.92582403567252 = 101.92582403567252 Mpa\n",
      "       σ2 = σavg - R = 75.0 - 26.92582403567252 = 48.07417596432748 Mpa\n",
      "       Angle φ1 it makes with x-axis, \n",
      "       φ1 = 0.5(atan(2*τxy/(σx - σy)) = 0.5 * atan(2*10.0/(100.0 - 50.0)) = 10.900704743175906 degrees\n",
      "       Angle σ2 makes with x-axis = φ2 = φ1 + 90 = 100.90070474317591 degrees\n",
      "\n",
      "       Maximum Shear Stress = τmax = R = 26.92582403567252 Mpa\n",
      "       It occurs at, α = φ1 + 45 = 55.90070474317591 degrees\n",
      "\n",
      "       Stresses at a plane with axis at θ anticlockwise from x axis, \n",
      "        σθ1 = σavg + R* Cos(2φ1 + 2θ) = 75.0 + 26.92582403567252* Cos(23.372205813146707)\n",
      "           = 65.0, Mpa\n",
      "        σθ2 = σavg + R* Cos(2φ1 + 2θ + pi) = \n",
      "            85.0 Mpa\n",
      "        τθ = R*Sin(2*φ1 + 2*θ)  = 25.0 Mpa\n",
      "\n",
      "       \n"
     ]
    },
    {
     "data": {
      "image/png": "[encoded data removed]",
      "text/plain": [
       "<Figure size 432x288 with 1 Axes>"
      ]
     },
     "metadata": {
      "needs_background": "light"
     },
     "output_type": "display_data"
    }
   ],
   "source": [
    "def mohcircle(σx,σy,τxy,u,w):\n",
    "    import numpy as np\n",
    "    import matplotlib.pyplot as plt\n",
    "    import math\n",
    "    \n",
    "    θ = math.radians(w)\n",
    "    R = np.sqrt(0.25 * (σx - σy) ** 2 + (τxy) ** 2)\n",
    "    σavg = (σx + σy) / 2\n",
    "    ψ = np.linspace(0, 2 * np.pi, 360)\n",
    "    x = σavg + R * np.cos(ψ)\n",
    "    y = R * (np.sin(ψ))\n",
    "    φ1 = math.degrees(0.5 * math.atan(2 * τxy / (σx - σy)))\n",
    "    φ2 = φ1 + 90\n",
    "    σθ1 = σavg + R * np.cos(2 * np.radians(φ1) + 2 * θ)\n",
    "    σθ2 = σavg + R * np.cos(2 * np.radians(φ1) + 2 * θ + np.pi)\n",
    "    τθ = R * np.sin(2 * np.radians(φ1) + 2 * θ)\n",
    "    print(f'''\n",
    "       Radius, R = √(0.25*(σx-σy)^2 + τxy^2) \n",
    "               = √(0.25*({σx}-{σy})^2 + {τxy}^2)  ={R} {u}\n",
    "\n",
    "       Average Stress,(acts at the Center of Mohr's Circle) \n",
    "               = σavg = (σx + σy)/2 = ({σx} + {σy})/2 = {σavg} {u}\n",
    "\n",
    "       Principal Stresses\n",
    "       σ1 = σavg + R = {σavg} + {R} = {σavg + R} {u}\n",
    "       σ2 = σavg - R = {σavg} - {R} = {σavg - R} {u}\n",
    "       Angle φ1 it makes with x-axis, \n",
    "       φ1 = 0.5(atan(2*τxy/(σx - σy)) = 0.5 * atan(2*{τxy}/({σx} - {σy})) = {φ1} degrees\n",
    "       Angle σ2 makes with x-axis = φ2 = φ1 + 90 = {φ2} degrees\n",
    "\n",
    "       Maximum Shear Stress = τmax = R = {R} {u}\n",
    "       It occurs at, α = φ1 + 45 = {φ1 + 45} degrees\n",
    "\n",
    "       Stresses at a plane with axis at θ anticlockwise from x axis, \n",
    "        σθ1 = σavg + R* Cos(2φ1 + 2θ) = {σavg} + {R}* Cos({2 * φ1 + 2 * θ})\n",
    "           = {σθ1}, {u}\n",
    "        σθ2 = σavg + R* Cos(2φ1 + 2θ + pi) = \n",
    "            {σθ2} {u}\n",
    "        τθ = R*Sin(2*φ1 + 2*θ)  = {R * np.sin(2 * np.radians(φ1) + 2 * θ)} {u}\n",
    "\n",
    "       ''')\n",
    "    center = [σavg, 0.0]\n",
    "    circ = plt.Circle((center[0],0), R, facecolor='#cce885', lw=3,edgecolor='#5c8037') \n",
    "    plt.axis('image')\n",
    "    ax = plt.gca() \n",
    "    ax.add_artist(circ)   \n",
    "    ax.set_xlim(σavg - R - .1*R, σavg + R + .1*R)\n",
    "    ax.set_ylim(-1.1*R, 1.1*R)\n",
    "    plt.plot(x, y)\n",
    "    plt.plot([σavg - R - 10, σavg + R + 10], [0, 0], linestyle='--', color='black')\n",
    "    plt.plot([σavg, σavg], [-R - 10, R + 10], linestyle='--', color='black')\n",
    "    plt.plot([σx, σy], [τxy, -τxy], [σx, σx], [0, τxy], [σy, σy], [0, -τxy], linestyle='-', color='brown')\n",
    "    plt.plot([σθ1, σθ2], [τθ, -τθ], [σθ1, σθ1], [0, τθ], [σθ2, σθ2], [0, -τθ], linestyle='--', color='red')\n",
    "    plt.xlabel('σ (MPa)')\n",
    "    plt.ylabel('τ (MPa)')\n",
    "    plt.title(\"Mohr's Circle\")\n",
    "    plt.show()\n",
    "    \n",
    "if __name__ == \"__main__\":\n",
    "    \n",
    "    σx = 100.\n",
    "    σy = 50.\n",
    "    τxy = 10.\n",
    "    unit = 'Mpa'\n",
    "    angle = 45.   # Angle( in degrees) of plane's axis from x axis(+ve counter clockwise), θ \n",
    "\n",
    "    mohcircle(σx,σy,τxy,unit,angle)\n"
   ]
  },
  {
   "cell_type": "markdown",
   "id": "inappropriate-atmosphere",
   "metadata": {},
   "source": [
    "# Stress State Analysis 3D"
   ]
  },
  {
   "cell_type": "markdown",
   "id": "buried-variable",
   "metadata": {},
   "source": [
    "Reference: https://csmbrannon.net/2011/04/25/stress-state-analysis-python-script/comment-page-1/"
   ]
  },
  {
   "cell_type": "code",
   "execution_count": 24,
   "id": "tutorial-minneapolis",
   "metadata": {
    "tags": []
   },
   "outputs": [
    {
     "name": "stdout",
     "output_type": "stream",
     "text": [
      "\n",
      "===================== Stress State Analysis ====================\n",
      "\n",
      "Input Stress:\n",
      "[[150 100  95]\n",
      " [  0  96   0]\n",
      " [ 95   0 -50]]\n",
      "\n",
      "====================== Component Matricies =====================\n",
      "\n",
      "Isotropic Stress:\n",
      "[[65.33333333  0.          0.        ]\n",
      " [ 0.         65.33333333  0.        ]\n",
      " [ 0.          0.         65.33333333]]\n",
      "Deviatoric Stress:\n",
      "[[  84.66666667  100.           95.        ]\n",
      " [   0.           30.66666667    0.        ]\n",
      " [  95.            0.         -115.33333333]]\n",
      "\n",
      "========================= Scalar Values ========================\n",
      "\n",
      "                            P1:  1.8793114224e+02\n",
      "                            P2:  9.6000000000e+01\n",
      "                            P3: -8.7931142241e+01\n",
      "                     Max Shear:  1.3793114224e+02\n",
      "                   Mean Stress:  6.5333333333e+01\n",
      "             Equivalent Stress:  2.4329200562e+02\n",
      "                            I1:  1.9600000000e+02\n",
      "                            J2:  1.9730333333e+04\n",
      "                            J3: -5.7622325926e+05\n",
      "                        Lode z:  1.1316065276e+02\n",
      "                        Lode r:  1.9864709076e+02\n",
      "              Lode theta (rad): -1.9021824508e-01\n",
      "              Lode theta (deg): -1.0898702629e+01\n",
      "                   Triaxiality:  2.6853875928e-01\n",
      "\n",
      "========================== End Output ==========================\n",
      "\n"
     ]
    }
   ],
   "source": [
    "import sys\n",
    "import numpy\n",
    "import math\n",
    "\n",
    "\n",
    "def headerprint(string):\n",
    "    \"\"\" Prints a centered string to divide output sections. \"\"\"\n",
    "    mywidth = 64\n",
    "    mychar = \"=\"\n",
    "    numspaces = mywidth - len(string)\n",
    "    before = int(math.ceil(float(mywidth-len(string))/2))\n",
    "    after  = int(math.floor(float(mywidth-len(string))/2))\n",
    "    print(\"\\n\"+before*mychar+string+after*mychar+\"\\n\")\n",
    "\n",
    "def valprint(string, value):\n",
    "    \"\"\" Ensure uniform formatting of scalar value outputs. \"\"\"\n",
    "    print(\"{0:>30}: {1: .10e}\".format(string, value))\n",
    "\n",
    "def matprint(string, value):\n",
    "    \"\"\" Ensure uniform formatting of matrix value outputs. \"\"\"\n",
    "    print(\"{0}:\".format(string))\n",
    "    print(value)\n",
    "\n",
    "\n",
    "#\n",
    "# The main section of the script\n",
    "#\n",
    "if __name__ == '__main__':\n",
    "    \n",
    "\n",
    "    sigma = np.array([\n",
    "        [150,100,95],\n",
    "        [0,96,0],\n",
    "        [95,0,-50]])  \n",
    "\n",
    "    sigma_iso = 1.0/3.0*numpy.trace(sigma)*numpy.eye(3)\n",
    "    sigma_dev = sigma - sigma_iso\n",
    "\n",
    "    # compute principal stresses\n",
    "    eigvals = list(numpy.linalg.eigvalsh(sigma))\n",
    "    eigvals.sort()\n",
    "    eigvals.reverse()\n",
    "\n",
    "    # compute max shear stress\n",
    "    maxshear = (max(eigvals)-min(eigvals))/2.0\n",
    "\n",
    "    # compute the stress invariants\n",
    "    I1 = numpy.trace(sigma)\n",
    "    J2 = 1.0/2.0*numpy.trace(numpy.dot(sigma_dev,sigma_dev))\n",
    "    J3 = 1.0/3.0*numpy.trace(\\\n",
    "         numpy.dot(sigma_dev,numpy.dot(sigma_dev,sigma_dev)))\n",
    "\n",
    "    # compute other common stress measures\n",
    "    mean_stress = 1.0/3.0*I1\n",
    "    eqv_stress  = math.sqrt(3.0*J2)\n",
    "\n",
    "    # compute lode coordinates\n",
    "    lode_r = math.sqrt(2.0*J2)\n",
    "    lode_z = I1/math.sqrt(3.0)\n",
    "    \n",
    "    \n",
    "    dum = 3.0*math.sqrt(6.0)*numpy.linalg.det(sigma_dev/lode_r)\n",
    "    lode_theta = 1.0/3.0*math.asin(dum)\n",
    "\n",
    "    # compute the stress triaxiality\n",
    "    triaxiality = mean_stress/eqv_stress\n",
    "\n",
    "    # Print out what we've found\n",
    "    headerprint(\" Stress State Analysis \")\n",
    "    matprint(\"Input Stress\",sigma)\n",
    "    headerprint(\" Component Matricies \")\n",
    "    matprint(\"Isotropic Stress\",sigma_iso)\n",
    "    matprint(\"Deviatoric Stress\",sigma_dev)\n",
    "    headerprint(\" Scalar Values \")\n",
    "    valprint(\"P1\",eigvals[0])\n",
    "    valprint(\"P2\",eigvals[1])\n",
    "    valprint(\"P3\",eigvals[2])\n",
    "    valprint(\"Max Shear\", maxshear)\n",
    "    valprint(\"Mean Stress\",mean_stress)\n",
    "    valprint(\"Equivalent Stress\", eqv_stress)\n",
    "    valprint(\"I1\",I1)\n",
    "    valprint(\"J2\",J2)\n",
    "    valprint(\"J3\",J3)\n",
    "    valprint(\"Lode z\",lode_z)\n",
    "    valprint(\"Lode r\",lode_r)\n",
    "    valprint(\"Lode theta (rad)\",lode_theta)\n",
    "    valprint(\"Lode theta (deg)\",math.degrees(lode_theta))\n",
    "    valprint(\"Triaxiality\",triaxiality)\n",
    "    headerprint(\" End Output \")"
   ]
  },
  {
   "cell_type": "markdown",
   "id": "signal-allergy",
   "metadata": {},
   "source": [
    "# Mohr's Circle 3D"
   ]
  },
  {
   "cell_type": "markdown",
   "id": "supported-thesaurus",
   "metadata": {},
   "source": [
    "Reference: https://gist.github.com/nicoguaro/d9a77d5a7819e801c5b4"
   ]
  },
  {
   "cell_type": "code",
   "execution_count": 25,
   "id": "tribal-screw",
   "metadata": {
    "tags": []
   },
   "outputs": [
    {
     "data": {
      "image/png": "[encoded data removed]",
      "text/plain": [
       "<Figure size 432x288 with 1 Axes>"
      ]
     },
     "metadata": {
      "needs_background": "light"
     },
     "output_type": "display_data"
    }
   ],
   "source": [
    "\"\"\"\n",
    "Mohr circle in 3D.\n",
    "@author: Nicolás Guarín-Zapata\n",
    "@date: May 2020\n",
    "\"\"\"\n",
    "import numpy as np\n",
    "import matplotlib.pyplot as plt\n",
    "from scipy.linalg import eigvalsh\n",
    "from matplotlib import rcParams\n",
    " \n",
    "rcParams['font.family'] = 'serif'\n",
    "rcParams['font.size'] = 16 \n",
    "\n",
    "\n",
    "def plot_mohr3d(S):\n",
    "    r\"\"\"Plot 3D Mohr circles.\"\"\"\n",
    "    \n",
    "    S3, S2, S1 = eigvalsh(S)\n",
    "\n",
    "    R_maj = 0.5*(S1 - S3)\n",
    "    cent_maj = 0.5*(S1+S3)\n",
    "    \n",
    "    R_min = 0.5*(S2 - S3)\n",
    "    cent_min = 0.5*(S2 + S3)\n",
    "    \n",
    "    R_mid = 0.5*(S1 - S2)\n",
    "    cent_mid = 0.5*(S1 + S2)\n",
    "    \n",
    "    circ1 = plt.Circle((cent_maj,0), R_maj, facecolor='#cce885', lw=3,\n",
    "                       edgecolor='#5c8037')\n",
    "    circ2 = plt.Circle((cent_min,0), R_min, facecolor='w', lw=3,\n",
    "                       edgecolor='#15a1bd')\n",
    "    circ3 = plt.Circle((cent_mid,0), R_mid, facecolor='w', lw=3,\n",
    "                       edgecolor='#e4612d')\n",
    "    plt.axis('image')\n",
    "    ax = plt.gca()\n",
    "    ax.add_artist(circ1)\n",
    "    ax.add_artist(circ2)\n",
    "    ax.add_artist(circ3)\n",
    "    ax.set_xlim(S3 - .1*R_maj, S1 + .1*R_maj)\n",
    "    ax.set_ylim(-1.1*R_maj, 1.1*R_maj)\n",
    "    plt.xlabel(r\"$\\sigma$\", size=18)\n",
    "    plt.ylabel(r\"$\\tau$\", size=18)\n",
    "    #plt.savefig('Mohr_circle_3D.svg')\n",
    "    plt.show()\n",
    "\n",
    "if __name__ == '__main__':    \n",
    "    sigma = np.array([\n",
    "        [150,100,95],\n",
    "        [0,96,0],\n",
    "        [95,0,-50]])    \n",
    "\n",
    "    plt.figure()\n",
    "    plot_mohr3d(sigma)\n"
   ]
  },
  {
   "cell_type": "code",
   "execution_count": null,
   "id": "informal-tumor",
   "metadata": {},
   "outputs": [],
   "source": []
  }
 ],
 "metadata": {
  "kernelspec": {
   "display_name": "Python 3",
   "language": "python",
   "name": "python3"
  },
  "language_info": {
   "codemirror_mode": {
    "name": "ipython",
    "version": 3
   },
   "file_extension": ".py",
   "mimetype": "text/x-python",
   "name": "python",
   "nbconvert_exporter": "python",
   "pygments_lexer": "ipython3",
   "version": "3.7.7"
  },
  "toc-autonumbering": true,
  "toc-showcode": true,
  "toc-showmarkdowntxt": true,
  "toc-showtags": false
 },
 "nbformat": 4,
 "nbformat_minor": 5
}
