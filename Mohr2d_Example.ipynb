{
 "cells": [
  {
   "cell_type": "code",
   "execution_count": 1,
   "id": "103186a0-ecb7-4579-858d-cf5b5e04bf3e",
   "metadata": {
    "tags": []
   },
   "outputs": [
    {
     "data": {
      "application/vnd.jupyter.widget-view+json": {
       "model_id": "ee025177217a42b5a62c39affedbd137",
       "version_major": 2,
       "version_minor": 0
      },
      "text/plain": [
       "Tab(children=(Box(children=(VBox(children=(FloatText(value=67.93745217665148, description='σx: ', layout=Layou…"
      ]
     },
     "metadata": {},
     "output_type": "display_data"
    }
   ],
   "source": [
    "from Mohr_Circle_2D import MohrCircle\n",
    "import numpy as np\n",
    "\n",
    "mohr2d = MohrCircle()\n",
    "\n",
    "σx = np.random.rand(80)*100\n",
    "σy = np.random.rand(80)*101\n",
    "τxy = np.random.rand(80)*103\n",
    "angle = (np.random.rand(80)-0.5)*50 # Angle( in degrees) of plane's axis from x axis(+ve counter clockwise), θ \n",
    "unit = 'PSI'\n",
    "\n",
    "sigx = σx.reshape(20,4)\n",
    "sigy = σy.reshape(20,4)\n",
    "tauxy = τxy.reshape(20,4)\n",
    "aangle = angle.reshape(20,4)\n",
    "\n",
    "\n",
    "mohr2d.ui_mohrcircle2d(sigx, sigy, tauxy, unit, aangle)"
   ]
  },
  {
   "cell_type": "code",
   "execution_count": 4,
   "id": "8a7724c2-9b7b-4bc4-8f5a-5074d5f9a012",
   "metadata": {},
   "outputs": [
    {
     "data": {
      "text/latex": [
       "$\\displaystyle Index: I [   1], J [   3], K [   0]$"
      ],
      "text/plain": [
       "<IPython.core.display.Math object>"
      ]
     },
     "metadata": {},
     "output_type": "display_data"
    },
    {
     "data": {
      "text/latex": [
       "$\\displaystyle Radius:$"
      ],
      "text/plain": [
       "<IPython.core.display.Math object>"
      ]
     },
     "metadata": {},
     "output_type": "display_data"
    },
    {
     "data": {
      "text/latex": [
       "$\\displaystyle \\quad R = \\sqrt{{(\\sigma_x-\\sigma_y)\\over4}^2 + (\\tau_{xy})^2}= \\sqrt{{(4.13--430.00)\\over4}^2 +(199.00)^2} = 294.48 \\: $"
      ],
      "text/plain": [
       "<IPython.core.display.Math object>"
      ]
     },
     "metadata": {},
     "output_type": "display_data"
    },
    {
     "data": {
      "text/latex": [
       "$\\displaystyle Average \\: Stress:$"
      ],
      "text/plain": [
       "<IPython.core.display.Math object>"
      ]
     },
     "metadata": {},
     "output_type": "display_data"
    },
    {
     "data": {
      "text/latex": [
       "$\\displaystyle \\quad \\sigma_{avg} = {(\\sigma_x + \\sigma_y)\\over2} = {(4.13 + -430.00)\\over2} = -212.93$"
      ],
      "text/plain": [
       "<IPython.core.display.Math object>"
      ]
     },
     "metadata": {},
     "output_type": "display_data"
    },
    {
     "data": {
      "text/latex": [
       "$\\displaystyle Principal \\: Stresses:$"
      ],
      "text/plain": [
       "<IPython.core.display.Math object>"
      ]
     },
     "metadata": {},
     "output_type": "display_data"
    },
    {
     "data": {
      "text/latex": [
       "$\\displaystyle \\quad \\sigma_{1} = {\\sigma_{avg} + R} = {-212.93 + 294.48} = 81.55$"
      ],
      "text/plain": [
       "<IPython.core.display.Math object>"
      ]
     },
     "metadata": {},
     "output_type": "display_data"
    },
    {
     "data": {
      "text/latex": [
       "$\\displaystyle \\quad \\sigma_{2} = {\\sigma_{avg} - R} = {-212.93 + 294.48} = -507.41$"
      ],
      "text/plain": [
       "<IPython.core.display.Math object>"
      ]
     },
     "metadata": {},
     "output_type": "display_data"
    },
    {
     "data": {
      "text/latex": [
       "$\\displaystyle Angle \\: \\alpha \\: from \\: x\\: axis \\::$"
      ],
      "text/plain": [
       "<IPython.core.display.Math object>"
      ]
     },
     "metadata": {},
     "output_type": "display_data"
    },
    {
     "data": {
      "text/latex": [
       "$\\displaystyle \\quad \\alpha = 0.5 \\cdot tan^{-1} \\left({2 \\cdot \\tau_{xy} \\over{\\sigma_x - \\sigma_y}}\\right) = 0.5 \\cdot tan^{-1} \\left({2 \\cdot (199.00) \\over{4.13 - -430.00}}\\right) = 21.26 ^\\circ$"
      ],
      "text/plain": [
       "<IPython.core.display.Math object>"
      ]
     },
     "metadata": {},
     "output_type": "display_data"
    },
    {
     "data": {
      "text/latex": [
       "$\\displaystyle Maximum \\: Shear \\: Stress:$"
      ],
      "text/plain": [
       "<IPython.core.display.Math object>"
      ]
     },
     "metadata": {},
     "output_type": "display_data"
    },
    {
     "data": {
      "text/latex": [
       "$\\displaystyle \\quad \\tau_{max} = R = {294.48}$"
      ],
      "text/plain": [
       "<IPython.core.display.Math object>"
      ]
     },
     "metadata": {},
     "output_type": "display_data"
    },
    {
     "data": {
      "text/latex": [
       "$\\displaystyle Stress \\: Transformed \\: after \\: Rotation:$"
      ],
      "text/plain": [
       "<IPython.core.display.Math object>"
      ]
     },
     "metadata": {},
     "output_type": "display_data"
    },
    {
     "data": {
      "text/latex": [
       "$\\displaystyle \\quad \\sigma_{x^\\prime} = \\sigma_{avg}+R \\cdot cos(2\\theta+2\\alpha) = -212.93 + 294.48 \\cdot cos(2(-14.60)+2(21.26)) = 73.63$"
      ],
      "text/plain": [
       "<IPython.core.display.Math object>"
      ]
     },
     "metadata": {},
     "output_type": "display_data"
    },
    {
     "data": {
      "text/latex": [
       "$\\displaystyle \\quad \\sigma_{y^\\prime} = \\sigma_{avg}+R \\cdot cos(2\\theta+2\\alpha+ 180 ^\\circ) = -212.93 + 294.48 \\cdot cos(2(-14.60)+2(21.26)+ 180 ^\\circ) = -499.50$"
      ],
      "text/plain": [
       "<IPython.core.display.Math object>"
      ]
     },
     "metadata": {},
     "output_type": "display_data"
    },
    {
     "data": {
      "text/latex": [
       "$\\displaystyle \\quad \\tau_{x^\\prime y^\\prime} = R \\cdot sin(2\\theta+2\\alpha) = 294 \\cdot sin(2(-14.60)+2(21.26)) = 67.80$"
      ],
      "text/plain": [
       "<IPython.core.display.Math object>"
      ]
     },
     "metadata": {},
     "output_type": "display_data"
    }
   ],
   "source": [
    "mohr2d.display_equation()"
   ]
  },
  {
   "cell_type": "code",
   "execution_count": 3,
   "id": "f4df9e2f-38a2-4116-adc9-325315134619",
   "metadata": {},
   "outputs": [
    {
     "data": {
      "text/plain": [
       "array([[7.20550910e+01, 9.53650831e+01, 2.48633862e+01, 5.39065702e+01],\n",
       "       [3.66847235e+01, 9.08053556e+01, 7.45752062e+01, 8.58118798e+00],\n",
       "       [7.77606975e+01, 9.90548781e+01, 7.84546180e+00, 8.29042843e+01],\n",
       "       [1.40095043e+01, 1.47788220e+01, 5.72855975e+01, 9.06883839e+01],\n",
       "       [1.91010427e+01, 1.07530969e+01, 2.80744543e+01, 1.24145950e+00],\n",
       "       [2.97263861e+01, 3.97457695e+01, 4.13710901e+01, 8.54646038e+01],\n",
       "       [7.51029867e+01, 7.10092257e+01, 4.20426981e+01, 6.09413308e+01],\n",
       "       [8.45434751e+01, 3.61766940e+01, 7.06220973e+01, 7.79450842e-02],\n",
       "       [3.71901392e+01, 9.17787708e+01, 2.25757083e+01, 5.09075993e+01],\n",
       "       [1.13568451e+01, 1.60369089e+01, 6.80599849e+00, 7.48657656e+00],\n",
       "       [1.85295189e+01, 9.79349762e+01, 7.10187122e+00, 4.91545876e+01],\n",
       "       [1.77575653e+01, 9.40808200e+01, 4.66479813e+01, 7.60745054e+01],\n",
       "       [8.02545147e+01, 7.67450776e+01, 5.82229622e+01, 2.11137856e+01],\n",
       "       [1.08168004e+01, 2.34784301e+01, 5.85054136e+01, 6.27735270e+01],\n",
       "       [7.28810961e+01, 5.69331672e+01, 1.74126392e+00, 4.57914251e+01],\n",
       "       [1.86896090e+01, 8.84488438e+01, 9.16345305e+01, 5.21112209e+00],\n",
       "       [2.96104071e+01, 7.18462103e+01, 3.21192596e+01, 9.77397167e+01],\n",
       "       [8.00574334e+01, 3.65319017e+01, 5.76557068e+01, 2.81382918e+01],\n",
       "       [8.71075010e+01, 1.93885244e+01, 2.42168991e+01, 7.64141132e+01],\n",
       "       [2.13629240e+01, 1.40597969e+01, 7.88398032e+00, 9.19587138e+01]])"
      ]
     },
     "execution_count": 3,
     "metadata": {},
     "output_type": "execute_result"
    }
   ],
   "source": [
    "sigx"
   ]
  },
  {
   "cell_type": "code",
   "execution_count": 4,
   "id": "c7f4aadd-f504-4843-979d-6806a982e0c4",
   "metadata": {},
   "outputs": [
    {
     "data": {
      "text/plain": [
       "145.11446461010848"
      ]
     },
     "execution_count": 4,
     "metadata": {},
     "output_type": "execute_result"
    }
   ],
   "source": [
    "mohr2d.maxSxp"
   ]
  },
  {
   "cell_type": "code",
   "execution_count": null,
   "id": "ce8303f2-491c-4f57-b5d4-e35fb30cfe1f",
   "metadata": {},
   "outputs": [],
   "source": []
  },
  {
   "cell_type": "code",
   "execution_count": null,
   "id": "92ca7384-84d4-4352-a96b-9e20424da296",
   "metadata": {},
   "outputs": [],
   "source": []
  }
 ],
 "metadata": {
  "kernelspec": {
   "display_name": "Python 3 (ipykernel)",
   "language": "python",
   "name": "python3"
  },
  "language_info": {
   "codemirror_mode": {
    "name": "ipython",
    "version": 3
   },
   "file_extension": ".py",
   "mimetype": "text/x-python",
   "name": "python",
   "nbconvert_exporter": "python",
   "pygments_lexer": "ipython3",
   "version": "3.8.10"
  }
 },
 "nbformat": 4,
 "nbformat_minor": 5
}
